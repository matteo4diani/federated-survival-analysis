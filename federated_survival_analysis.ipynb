{
  "nbformat": 4,
  "nbformat_minor": 0,
  "metadata": {
    "colab": {
      "provenance": [],
      "authorship_tag": "ABX9TyOkjofNnFU29ERDvR6UN6Xh",
      "include_colab_link": true
    },
    "kernelspec": {
      "name": "python3",
      "display_name": "Python 3"
    },
    "language_info": {
      "name": "python"
    }
  },
  "cells": [
    {
      "cell_type": "markdown",
      "metadata": {
        "id": "view-in-github",
        "colab_type": "text"
      },
      "source": [
        "<a href=\"https://colab.research.google.com/github/matteo4diani/federated-survival-analysis/blob/main/federated_survival_analysis.ipynb\" target=\"_parent\"><img src=\"https://colab.research.google.com/assets/colab-badge.svg\" alt=\"Open In Colab\"/></a>"
      ]
    },
    {
      "cell_type": "code",
      "execution_count": null,
      "metadata": {
        "id": "6NTIrpAE6LyM"
      },
      "outputs": [],
      "source": [
        "!pip install memory_profiler\n",
        "!pip install torch\n",
        "!pip install tensorboard\n",
        "!pip install flower\n",
        "!pip install scikit-learn\n",
        "!pip install scikit-survival\n",
        "\n",
        "\n",
        "# Clone PyTorch/StableBaselines wrappers\n",
        "!git clone https://github.com/matteo4diani/federated-survival-analysis-utils.git\n",
        "     \n",
        "\n",
        "# Put the downloaded repo on path so we can import custom libraries into Colab\n",
        "import sys\n",
        "sys.path.insert(0,'/content/federated-survival-analysis-utils')\n",
        "\n"
      ]
    }
  ]
}